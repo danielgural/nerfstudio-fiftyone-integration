{
 "cells": [
  {
   "cell_type": "code",
   "execution_count": 1,
   "metadata": {},
   "outputs": [
    {
     "data": {
      "text/html": [
       "<pre style=\"white-space:pre;overflow-x:auto;line-height:normal;font-family:Menlo,'DejaVu Sans Mono',consolas,'Courier New',monospace\"><span style=\"color: #7fbfbf; text-decoration-color: #7fbfbf\">[14:45:27] </span>Auto image downscale factor of <span style=\"color: #008080; text-decoration-color: #008080; font-weight: bold\">2</span>                                                 <a href=\"file:///home/dan/Documents/nerfs/nerfstudio/nerfstudio/data/dataparsers/nerfstudio_dataparser.py\" target=\"_blank\"><span style=\"color: #7f7f7f; text-decoration-color: #7f7f7f\">nerfstudio_dataparser.py</span></a><span style=\"color: #7f7f7f; text-decoration-color: #7f7f7f\">:</span><a href=\"file:///home/dan/Documents/nerfs/nerfstudio/nerfstudio/data/dataparsers/nerfstudio_dataparser.py#484\" target=\"_blank\"><span style=\"color: #7f7f7f; text-decoration-color: #7f7f7f\">484</span></a>\n",
       "</pre>\n"
      ],
      "text/plain": [
       "\u001b[2;36m[14:45:27]\u001b[0m\u001b[2;36m \u001b[0mAuto image downscale factor of \u001b[1;36m2\u001b[0m                                                 \u001b]8;id=608983;file:///home/dan/Documents/nerfs/nerfstudio/nerfstudio/data/dataparsers/nerfstudio_dataparser.py\u001b\\\u001b[2mnerfstudio_dataparser.py\u001b[0m\u001b]8;;\u001b\\\u001b[2m:\u001b[0m\u001b]8;id=777291;file:///home/dan/Documents/nerfs/nerfstudio/nerfstudio/data/dataparsers/nerfstudio_dataparser.py#484\u001b\\\u001b[2m484\u001b[0m\u001b]8;;\u001b\\\n"
      ]
     },
     "metadata": {},
     "output_type": "display_data"
    },
    {
     "name": "stdout",
     "output_type": "stream",
     "text": [
      "Started threads\n"
     ]
    },
    {
     "data": {
      "text/html": [
       "<pre style=\"white-space:pre;overflow-x:auto;line-height:normal;font-family:Menlo,'DejaVu Sans Mono',consolas,'Courier New',monospace\">Setting up evaluation dataset<span style=\"color: #808000; text-decoration-color: #808000\">...</span>\n",
       "</pre>\n"
      ],
      "text/plain": [
       "Setting up evaluation dataset\u001b[33m...\u001b[0m\n"
      ]
     },
     "metadata": {},
     "output_type": "display_data"
    },
    {
     "data": {
      "text/html": [
       "<pre style=\"white-space:pre;overflow-x:auto;line-height:normal;font-family:Menlo,'DejaVu Sans Mono',consolas,'Courier New',monospace\">Caching all <span style=\"color: #008080; text-decoration-color: #008080; font-weight: bold\">19</span> images.\n",
       "</pre>\n"
      ],
      "text/plain": [
       "Caching all \u001b[1;36m19\u001b[0m images.\n"
      ]
     },
     "metadata": {},
     "output_type": "display_data"
    },
    {
     "data": {
      "application/vnd.jupyter.widget-view+json": {
       "model_id": "d5fb4bce10c342e8a638560623ad77f6",
       "version_major": 2,
       "version_minor": 0
      },
      "text/plain": [
       "Output()"
      ]
     },
     "metadata": {},
     "output_type": "display_data"
    },
    {
     "name": "stdout",
     "output_type": "stream",
     "text": [
      "\u001b[2KLoading data batch \u001b[90m━━━━━━━━━━━━━━━━━━━━━━━━━━━━━━━━━━━━━━━━\u001b[0m \u001b[35m  0%\u001b[0m \u001b[36m-:--:--\u001b[0m"
     ]
    },
    {
     "data": {
      "text/html": [
       "<pre style=\"white-space:pre;overflow-x:auto;line-height:normal;font-family:Menlo,'DejaVu Sans Mono',consolas,'Courier New',monospace\"></pre>\n"
      ],
      "text/plain": []
     },
     "metadata": {},
     "output_type": "display_data"
    },
    {
     "name": "stdout",
     "output_type": "stream",
     "text": [
      "\u001b[2KLoading data batch \u001b[91m╸\u001b[0m\u001b[90m━━━━━━━━━━━━━━━━━━━━━━━━━━━━━━━━━━━━━━━\u001b[0m \u001b[35m  2%\u001b[0m \u001b[36m-:--:--\u001b[0m"
     ]
    },
    {
     "data": {
      "text/html": [
       "<pre style=\"white-space:pre;overflow-x:auto;line-height:normal;font-family:Menlo,'DejaVu Sans Mono',consolas,'Courier New',monospace\">\n",
       "</pre>\n"
      ],
      "text/plain": [
       "\n"
      ]
     },
     "metadata": {},
     "output_type": "display_data"
    },
    {
     "data": {
      "text/html": [
       "<pre style=\"white-space:pre;overflow-x:auto;line-height:normal;font-family:Menlo,'DejaVu Sans Mono',consolas,'Courier New',monospace\"><span style=\"color: #808000; text-decoration-color: #808000; font-weight: bold\">WARNING: Using a slow implementation for the SHEncoding module. </span>\n",
       "</pre>\n"
      ],
      "text/plain": [
       "\u001b[1;33mWARNING: Using a slow implementation for the SHEncoding module. \u001b[0m\n"
      ]
     },
     "metadata": {},
     "output_type": "display_data"
    },
    {
     "data": {
      "text/html": [
       "<pre style=\"white-space:pre;overflow-x:auto;line-height:normal;font-family:Menlo,'DejaVu Sans Mono',consolas,'Courier New',monospace\"><span style=\"color: #808000; text-decoration-color: #808000; font-weight: bold\">🏃 🏃 Install tcnn for speedups 🏃 🏃</span>\n",
       "</pre>\n"
      ],
      "text/plain": [
       "\u001b[1;33m🏃 🏃 Install tcnn for speedups 🏃 🏃\u001b[0m\n"
      ]
     },
     "metadata": {},
     "output_type": "display_data"
    },
    {
     "data": {
      "text/html": [
       "<pre style=\"white-space:pre;overflow-x:auto;line-height:normal;font-family:Menlo,'DejaVu Sans Mono',consolas,'Courier New',monospace\"><span style=\"color: #808000; text-decoration-color: #808000\">pip install git+</span><span style=\"color: #808000; text-decoration-color: #808000; text-decoration: underline\">https://github.com/NVlabs/tiny-cuda-nn/#subdirectory=bindings/torch</span>\n",
       "</pre>\n"
      ],
      "text/plain": [
       "\u001b[33mpip install git+\u001b[0m\u001b[4;33mhttps://github.com/NVlabs/tiny-cuda-nn/#\u001b[0m\u001b[4;33msubdirectory\u001b[0m\u001b[4;33m=\u001b[0m\u001b[4;33mbindings\u001b[0m\u001b[4;33m/torch\u001b[0m\n"
      ]
     },
     "metadata": {},
     "output_type": "display_data"
    },
    {
     "data": {
      "text/html": [
       "<pre style=\"white-space:pre;overflow-x:auto;line-height:normal;font-family:Menlo,'DejaVu Sans Mono',consolas,'Courier New',monospace\">\n",
       "</pre>\n"
      ],
      "text/plain": [
       "\n"
      ]
     },
     "metadata": {},
     "output_type": "display_data"
    },
    {
     "data": {
      "text/html": [
       "<pre style=\"white-space:pre;overflow-x:auto;line-height:normal;font-family:Menlo,'DejaVu Sans Mono',consolas,'Courier New',monospace\">\n",
       "</pre>\n"
      ],
      "text/plain": [
       "\n"
      ]
     },
     "metadata": {},
     "output_type": "display_data"
    },
    {
     "data": {
      "text/html": [
       "<pre style=\"white-space:pre;overflow-x:auto;line-height:normal;font-family:Menlo,'DejaVu Sans Mono',consolas,'Courier New',monospace\"><span style=\"color: #808000; text-decoration-color: #808000; font-weight: bold\">WARNING: Using a slow implementation for the NeRFEncoding module. </span>\n",
       "</pre>\n"
      ],
      "text/plain": [
       "\u001b[1;33mWARNING: Using a slow implementation for the NeRFEncoding module. \u001b[0m\n"
      ]
     },
     "metadata": {},
     "output_type": "display_data"
    },
    {
     "data": {
      "text/html": [
       "<pre style=\"white-space:pre;overflow-x:auto;line-height:normal;font-family:Menlo,'DejaVu Sans Mono',consolas,'Courier New',monospace\"><span style=\"color: #808000; text-decoration-color: #808000; font-weight: bold\">🏃 🏃 Install tcnn for speedups 🏃 🏃</span>\n",
       "</pre>\n"
      ],
      "text/plain": [
       "\u001b[1;33m🏃 🏃 Install tcnn for speedups 🏃 🏃\u001b[0m\n"
      ]
     },
     "metadata": {},
     "output_type": "display_data"
    },
    {
     "data": {
      "text/html": [
       "<pre style=\"white-space:pre;overflow-x:auto;line-height:normal;font-family:Menlo,'DejaVu Sans Mono',consolas,'Courier New',monospace\"><span style=\"color: #808000; text-decoration-color: #808000\">pip install git+</span><span style=\"color: #808000; text-decoration-color: #808000; text-decoration: underline\">https://github.com/NVlabs/tiny-cuda-nn/#subdirectory=bindings/torch</span>\n",
       "</pre>\n"
      ],
      "text/plain": [
       "\u001b[33mpip install git+\u001b[0m\u001b[4;33mhttps://github.com/NVlabs/tiny-cuda-nn/#\u001b[0m\u001b[4;33msubdirectory\u001b[0m\u001b[4;33m=\u001b[0m\u001b[4;33mbindings\u001b[0m\u001b[4;33m/torch\u001b[0m\n"
      ]
     },
     "metadata": {},
     "output_type": "display_data"
    },
    {
     "data": {
      "text/html": [
       "<pre style=\"white-space:pre;overflow-x:auto;line-height:normal;font-family:Menlo,'DejaVu Sans Mono',consolas,'Courier New',monospace\">\n",
       "</pre>\n"
      ],
      "text/plain": [
       "\n"
      ]
     },
     "metadata": {},
     "output_type": "display_data"
    },
    {
     "data": {
      "text/html": [
       "<pre style=\"white-space:pre;overflow-x:auto;line-height:normal;font-family:Menlo,'DejaVu Sans Mono',consolas,'Courier New',monospace\">\n",
       "</pre>\n"
      ],
      "text/plain": [
       "\n"
      ]
     },
     "metadata": {},
     "output_type": "display_data"
    },
    {
     "data": {
      "text/html": [
       "<pre style=\"white-space:pre;overflow-x:auto;line-height:normal;font-family:Menlo,'DejaVu Sans Mono',consolas,'Courier New',monospace\"><span style=\"color: #808000; text-decoration-color: #808000; font-weight: bold\">WARNING: Using a slow implementation for the MLPWithHashEncoding module. </span>\n",
       "</pre>\n"
      ],
      "text/plain": [
       "\u001b[1;33mWARNING: Using a slow implementation for the MLPWithHashEncoding module. \u001b[0m\n"
      ]
     },
     "metadata": {},
     "output_type": "display_data"
    },
    {
     "data": {
      "text/html": [
       "<pre style=\"white-space:pre;overflow-x:auto;line-height:normal;font-family:Menlo,'DejaVu Sans Mono',consolas,'Courier New',monospace\"><span style=\"color: #808000; text-decoration-color: #808000; font-weight: bold\">🏃 🏃 Install tcnn for speedups 🏃 🏃</span>\n",
       "</pre>\n"
      ],
      "text/plain": [
       "\u001b[1;33m🏃 🏃 Install tcnn for speedups 🏃 🏃\u001b[0m\n"
      ]
     },
     "metadata": {},
     "output_type": "display_data"
    },
    {
     "data": {
      "text/html": [
       "<pre style=\"white-space:pre;overflow-x:auto;line-height:normal;font-family:Menlo,'DejaVu Sans Mono',consolas,'Courier New',monospace\"><span style=\"color: #808000; text-decoration-color: #808000\">pip install git+</span><span style=\"color: #808000; text-decoration-color: #808000; text-decoration: underline\">https://github.com/NVlabs/tiny-cuda-nn/#subdirectory=bindings/torch</span>\n",
       "</pre>\n"
      ],
      "text/plain": [
       "\u001b[33mpip install git+\u001b[0m\u001b[4;33mhttps://github.com/NVlabs/tiny-cuda-nn/#\u001b[0m\u001b[4;33msubdirectory\u001b[0m\u001b[4;33m=\u001b[0m\u001b[4;33mbindings\u001b[0m\u001b[4;33m/torch\u001b[0m\n"
      ]
     },
     "metadata": {},
     "output_type": "display_data"
    },
    {
     "data": {
      "text/html": [
       "<pre style=\"white-space:pre;overflow-x:auto;line-height:normal;font-family:Menlo,'DejaVu Sans Mono',consolas,'Courier New',monospace\">\n",
       "</pre>\n"
      ],
      "text/plain": [
       "\n"
      ]
     },
     "metadata": {},
     "output_type": "display_data"
    },
    {
     "name": "stdout",
     "output_type": "stream",
     "text": [
      "\u001b[2KLoading data batch \u001b[91m━━\u001b[0m\u001b[90m╺\u001b[0m\u001b[90m━━━━━━━━━━━━━━━━━━━━━━━━━━━━━━━━━━━━━\u001b[0m \u001b[35m  5%\u001b[0m \u001b[36m0:00:04\u001b[0m"
     ]
    },
    {
     "data": {
      "text/html": [
       "<pre style=\"white-space:pre;overflow-x:auto;line-height:normal;font-family:Menlo,'DejaVu Sans Mono',consolas,'Courier New',monospace\">\n",
       "</pre>\n"
      ],
      "text/plain": [
       "\n"
      ]
     },
     "metadata": {},
     "output_type": "display_data"
    },
    {
     "data": {
      "text/html": [
       "<pre style=\"white-space:pre;overflow-x:auto;line-height:normal;font-family:Menlo,'DejaVu Sans Mono',consolas,'Courier New',monospace\"><span style=\"color: #808000; text-decoration-color: #808000; font-weight: bold\">WARNING: Using a slow implementation for the MLP module. </span>\n",
       "</pre>\n"
      ],
      "text/plain": [
       "\u001b[1;33mWARNING: Using a slow implementation for the MLP module. \u001b[0m\n"
      ]
     },
     "metadata": {},
     "output_type": "display_data"
    },
    {
     "data": {
      "text/html": [
       "<pre style=\"white-space:pre;overflow-x:auto;line-height:normal;font-family:Menlo,'DejaVu Sans Mono',consolas,'Courier New',monospace\"><span style=\"color: #808000; text-decoration-color: #808000; font-weight: bold\">🏃 🏃 Install tcnn for speedups 🏃 🏃</span>\n",
       "</pre>\n"
      ],
      "text/plain": [
       "\u001b[1;33m🏃 🏃 Install tcnn for speedups 🏃 🏃\u001b[0m\n"
      ]
     },
     "metadata": {},
     "output_type": "display_data"
    },
    {
     "data": {
      "text/html": [
       "<pre style=\"white-space:pre;overflow-x:auto;line-height:normal;font-family:Menlo,'DejaVu Sans Mono',consolas,'Courier New',monospace\"><span style=\"color: #808000; text-decoration-color: #808000\">pip install git+</span><span style=\"color: #808000; text-decoration-color: #808000; text-decoration: underline\">https://github.com/NVlabs/tiny-cuda-nn/#subdirectory=bindings/torch</span>\n",
       "</pre>\n"
      ],
      "text/plain": [
       "\u001b[33mpip install git+\u001b[0m\u001b[4;33mhttps://github.com/NVlabs/tiny-cuda-nn/#\u001b[0m\u001b[4;33msubdirectory\u001b[0m\u001b[4;33m=\u001b[0m\u001b[4;33mbindings\u001b[0m\u001b[4;33m/torch\u001b[0m\n"
      ]
     },
     "metadata": {},
     "output_type": "display_data"
    },
    {
     "data": {
      "text/html": [
       "<pre style=\"white-space:pre;overflow-x:auto;line-height:normal;font-family:Menlo,'DejaVu Sans Mono',consolas,'Courier New',monospace\">\n",
       "</pre>\n"
      ],
      "text/plain": [
       "\n"
      ]
     },
     "metadata": {},
     "output_type": "display_data"
    },
    {
     "data": {
      "text/html": [
       "<pre style=\"white-space:pre;overflow-x:auto;line-height:normal;font-family:Menlo,'DejaVu Sans Mono',consolas,'Courier New',monospace\">\n",
       "</pre>\n"
      ],
      "text/plain": [
       "\n"
      ]
     },
     "metadata": {},
     "output_type": "display_data"
    },
    {
     "data": {
      "text/html": [
       "<pre style=\"white-space:pre;overflow-x:auto;line-height:normal;font-family:Menlo,'DejaVu Sans Mono',consolas,'Courier New',monospace\"><span style=\"color: #808000; text-decoration-color: #808000; font-weight: bold\">WARNING: Using a slow implementation for the HashEncoding module. </span>\n",
       "</pre>\n"
      ],
      "text/plain": [
       "\u001b[1;33mWARNING: Using a slow implementation for the HashEncoding module. \u001b[0m\n"
      ]
     },
     "metadata": {},
     "output_type": "display_data"
    },
    {
     "data": {
      "text/html": [
       "<pre style=\"white-space:pre;overflow-x:auto;line-height:normal;font-family:Menlo,'DejaVu Sans Mono',consolas,'Courier New',monospace\"><span style=\"color: #808000; text-decoration-color: #808000; font-weight: bold\">🏃 🏃 Install tcnn for speedups 🏃 🏃</span>\n",
       "</pre>\n"
      ],
      "text/plain": [
       "\u001b[1;33m🏃 🏃 Install tcnn for speedups 🏃 🏃\u001b[0m\n"
      ]
     },
     "metadata": {},
     "output_type": "display_data"
    },
    {
     "data": {
      "text/html": [
       "<pre style=\"white-space:pre;overflow-x:auto;line-height:normal;font-family:Menlo,'DejaVu Sans Mono',consolas,'Courier New',monospace\"><span style=\"color: #808000; text-decoration-color: #808000\">pip install git+</span><span style=\"color: #808000; text-decoration-color: #808000; text-decoration: underline\">https://github.com/NVlabs/tiny-cuda-nn/#subdirectory=bindings/torch</span>\n",
       "</pre>\n"
      ],
      "text/plain": [
       "\u001b[33mpip install git+\u001b[0m\u001b[4;33mhttps://github.com/NVlabs/tiny-cuda-nn/#\u001b[0m\u001b[4;33msubdirectory\u001b[0m\u001b[4;33m=\u001b[0m\u001b[4;33mbindings\u001b[0m\u001b[4;33m/torch\u001b[0m\n"
      ]
     },
     "metadata": {},
     "output_type": "display_data"
    },
    {
     "data": {
      "text/html": [
       "<pre style=\"white-space:pre;overflow-x:auto;line-height:normal;font-family:Menlo,'DejaVu Sans Mono',consolas,'Courier New',monospace\">\n",
       "</pre>\n"
      ],
      "text/plain": [
       "\n"
      ]
     },
     "metadata": {},
     "output_type": "display_data"
    },
    {
     "data": {
      "text/html": [
       "<pre style=\"white-space:pre;overflow-x:auto;line-height:normal;font-family:Menlo,'DejaVu Sans Mono',consolas,'Courier New',monospace\">\n",
       "</pre>\n"
      ],
      "text/plain": [
       "\n"
      ]
     },
     "metadata": {},
     "output_type": "display_data"
    },
    {
     "data": {
      "text/html": [
       "<pre style=\"white-space:pre;overflow-x:auto;line-height:normal;font-family:Menlo,'DejaVu Sans Mono',consolas,'Courier New',monospace\"><span style=\"color: #808000; text-decoration-color: #808000; font-weight: bold\">WARNING: Using a slow implementation for the MLP module. </span>\n",
       "</pre>\n"
      ],
      "text/plain": [
       "\u001b[1;33mWARNING: Using a slow implementation for the MLP module. \u001b[0m\n"
      ]
     },
     "metadata": {},
     "output_type": "display_data"
    },
    {
     "data": {
      "text/html": [
       "<pre style=\"white-space:pre;overflow-x:auto;line-height:normal;font-family:Menlo,'DejaVu Sans Mono',consolas,'Courier New',monospace\"><span style=\"color: #808000; text-decoration-color: #808000; font-weight: bold\">🏃 🏃 Install tcnn for speedups 🏃 🏃</span>\n",
       "</pre>\n"
      ],
      "text/plain": [
       "\u001b[1;33m🏃 🏃 Install tcnn for speedups 🏃 🏃\u001b[0m\n"
      ]
     },
     "metadata": {},
     "output_type": "display_data"
    },
    {
     "data": {
      "text/html": [
       "<pre style=\"white-space:pre;overflow-x:auto;line-height:normal;font-family:Menlo,'DejaVu Sans Mono',consolas,'Courier New',monospace\"><span style=\"color: #808000; text-decoration-color: #808000\">pip install git+</span><span style=\"color: #808000; text-decoration-color: #808000; text-decoration: underline\">https://github.com/NVlabs/tiny-cuda-nn/#subdirectory=bindings/torch</span>\n",
       "</pre>\n"
      ],
      "text/plain": [
       "\u001b[33mpip install git+\u001b[0m\u001b[4;33mhttps://github.com/NVlabs/tiny-cuda-nn/#\u001b[0m\u001b[4;33msubdirectory\u001b[0m\u001b[4;33m=\u001b[0m\u001b[4;33mbindings\u001b[0m\u001b[4;33m/torch\u001b[0m\n"
      ]
     },
     "metadata": {},
     "output_type": "display_data"
    },
    {
     "name": "stdout",
     "output_type": "stream",
     "text": [
      "\u001b[2KLoading data batch \u001b[91m━━━━━━━\u001b[0m\u001b[91m╸\u001b[0m\u001b[90m━━━━━━━━━━━━━━━━━━━━━━━━━━━━━━━━\u001b[0m \u001b[35m 19%\u001b[0m \u001b[36m0:00:02\u001b[0m"
     ]
    },
    {
     "data": {
      "text/html": [
       "<pre style=\"white-space:pre;overflow-x:auto;line-height:normal;font-family:Menlo,'DejaVu Sans Mono',consolas,'Courier New',monospace\">\n",
       "</pre>\n"
      ],
      "text/plain": [
       "\n"
      ]
     },
     "metadata": {},
     "output_type": "display_data"
    },
    {
     "data": {
      "text/html": [
       "<pre style=\"white-space:pre;overflow-x:auto;line-height:normal;font-family:Menlo,'DejaVu Sans Mono',consolas,'Courier New',monospace\">\n",
       "</pre>\n"
      ],
      "text/plain": [
       "\n"
      ]
     },
     "metadata": {},
     "output_type": "display_data"
    },
    {
     "data": {
      "text/html": [
       "<pre style=\"white-space:pre;overflow-x:auto;line-height:normal;font-family:Menlo,'DejaVu Sans Mono',consolas,'Courier New',monospace\"><span style=\"color: #808000; text-decoration-color: #808000; font-weight: bold\">WARNING: Using a slow implementation for the HashEncoding module. </span>\n",
       "</pre>\n"
      ],
      "text/plain": [
       "\u001b[1;33mWARNING: Using a slow implementation for the HashEncoding module. \u001b[0m\n"
      ]
     },
     "metadata": {},
     "output_type": "display_data"
    },
    {
     "data": {
      "text/html": [
       "<pre style=\"white-space:pre;overflow-x:auto;line-height:normal;font-family:Menlo,'DejaVu Sans Mono',consolas,'Courier New',monospace\"><span style=\"color: #808000; text-decoration-color: #808000; font-weight: bold\">🏃 🏃 Install tcnn for speedups 🏃 🏃</span>\n",
       "</pre>\n"
      ],
      "text/plain": [
       "\u001b[1;33m🏃 🏃 Install tcnn for speedups 🏃 🏃\u001b[0m\n"
      ]
     },
     "metadata": {},
     "output_type": "display_data"
    },
    {
     "data": {
      "text/html": [
       "<pre style=\"white-space:pre;overflow-x:auto;line-height:normal;font-family:Menlo,'DejaVu Sans Mono',consolas,'Courier New',monospace\"><span style=\"color: #808000; text-decoration-color: #808000\">pip install git+</span><span style=\"color: #808000; text-decoration-color: #808000; text-decoration: underline\">https://github.com/NVlabs/tiny-cuda-nn/#subdirectory=bindings/torch</span>\n",
       "</pre>\n"
      ],
      "text/plain": [
       "\u001b[33mpip install git+\u001b[0m\u001b[4;33mhttps://github.com/NVlabs/tiny-cuda-nn/#\u001b[0m\u001b[4;33msubdirectory\u001b[0m\u001b[4;33m=\u001b[0m\u001b[4;33mbindings\u001b[0m\u001b[4;33m/torch\u001b[0m\n"
      ]
     },
     "metadata": {},
     "output_type": "display_data"
    },
    {
     "data": {
      "text/html": [
       "<pre style=\"white-space:pre;overflow-x:auto;line-height:normal;font-family:Menlo,'DejaVu Sans Mono',consolas,'Courier New',monospace\">\n",
       "</pre>\n"
      ],
      "text/plain": [
       "\n"
      ]
     },
     "metadata": {},
     "output_type": "display_data"
    },
    {
     "data": {
      "text/html": [
       "<pre style=\"white-space:pre;overflow-x:auto;line-height:normal;font-family:Menlo,'DejaVu Sans Mono',consolas,'Courier New',monospace\">\n",
       "</pre>\n"
      ],
      "text/plain": [
       "\n"
      ]
     },
     "metadata": {},
     "output_type": "display_data"
    },
    {
     "data": {
      "text/html": [
       "<pre style=\"white-space:pre;overflow-x:auto;line-height:normal;font-family:Menlo,'DejaVu Sans Mono',consolas,'Courier New',monospace\"><span style=\"color: #808000; text-decoration-color: #808000; font-weight: bold\">WARNING: Using a slow implementation for the MLP module. </span>\n",
       "</pre>\n"
      ],
      "text/plain": [
       "\u001b[1;33mWARNING: Using a slow implementation for the MLP module. \u001b[0m\n"
      ]
     },
     "metadata": {},
     "output_type": "display_data"
    },
    {
     "data": {
      "text/html": [
       "<pre style=\"white-space:pre;overflow-x:auto;line-height:normal;font-family:Menlo,'DejaVu Sans Mono',consolas,'Courier New',monospace\"><span style=\"color: #808000; text-decoration-color: #808000; font-weight: bold\">🏃 🏃 Install tcnn for speedups 🏃 🏃</span>\n",
       "</pre>\n"
      ],
      "text/plain": [
       "\u001b[1;33m🏃 🏃 Install tcnn for speedups 🏃 🏃\u001b[0m\n"
      ]
     },
     "metadata": {},
     "output_type": "display_data"
    },
    {
     "data": {
      "text/html": [
       "<pre style=\"white-space:pre;overflow-x:auto;line-height:normal;font-family:Menlo,'DejaVu Sans Mono',consolas,'Courier New',monospace\"><span style=\"color: #808000; text-decoration-color: #808000\">pip install git+</span><span style=\"color: #808000; text-decoration-color: #808000; text-decoration: underline\">https://github.com/NVlabs/tiny-cuda-nn/#subdirectory=bindings/torch</span>\n",
       "</pre>\n"
      ],
      "text/plain": [
       "\u001b[33mpip install git+\u001b[0m\u001b[4;33mhttps://github.com/NVlabs/tiny-cuda-nn/#\u001b[0m\u001b[4;33msubdirectory\u001b[0m\u001b[4;33m=\u001b[0m\u001b[4;33mbindings\u001b[0m\u001b[4;33m/torch\u001b[0m\n"
      ]
     },
     "metadata": {},
     "output_type": "display_data"
    },
    {
     "data": {
      "text/html": [
       "<pre style=\"white-space:pre;overflow-x:auto;line-height:normal;font-family:Menlo,'DejaVu Sans Mono',consolas,'Courier New',monospace\">\n",
       "</pre>\n"
      ],
      "text/plain": [
       "\n"
      ]
     },
     "metadata": {},
     "output_type": "display_data"
    },
    {
     "name": "stdout",
     "output_type": "stream",
     "text": [
      "\u001b[2KLoading data batch \u001b[90m━━━━━━━━━━━━━━━━━━━━━━━━━━━━━━━━━━━━━━━━\u001b[0m \u001b[35m100%\u001b[0m \u001b[33m0:00:01\u001b[0mm \u001b[36m0:00:01\u001b[0m\n",
      "\u001b[?25h"
     ]
    },
    {
     "data": {
      "text/html": [
       "<pre style=\"white-space:pre;overflow-x:auto;line-height:normal;font-family:Menlo,'DejaVu Sans Mono',consolas,'Courier New',monospace\">Loading latest checkpoint from load_dir\n",
       "</pre>\n"
      ],
      "text/plain": [
       "Loading latest checkpoint from load_dir\n"
      ]
     },
     "metadata": {},
     "output_type": "display_data"
    },
    {
     "data": {
      "text/html": [
       "<pre style=\"white-space:pre;overflow-x:auto;line-height:normal;font-family:Menlo,'DejaVu Sans Mono',consolas,'Courier New',monospace\">✅ Done loading checkpoint from outputs/sculpture/nerfacto/<span style=\"color: #008080; text-decoration-color: #008080; font-weight: bold\">2024</span>-<span style=\"color: #008080; text-decoration-color: #008080; font-weight: bold\">10</span>-24_103323/nerfstudio_models/step-<span style=\"color: #008080; text-decoration-color: #008080; font-weight: bold\">000029999.</span>ckpt\n",
       "</pre>\n"
      ],
      "text/plain": [
       "✅ Done loading checkpoint from outputs/sculpture/nerfacto/\u001b[1;36m2024\u001b[0m-\u001b[1;36m10\u001b[0m-24_103323/nerfstudio_models/step-\u001b[1;36m000029999.\u001b[0mckpt\n"
      ]
     },
     "metadata": {},
     "output_type": "display_data"
    },
    {
     "data": {
      "text/html": [
       "<pre style=\"white-space:pre;overflow-x:auto;line-height:normal;font-family:Menlo,'DejaVu Sans Mono',consolas,'Courier New',monospace\">╭─────────────── <span style=\"font-weight: bold\">viser</span> ───────────────╮\n",
       "│             ╷                       │\n",
       "│   HTTP      │ http://0.0.0.0:7007   │\n",
       "│   Websocket │ ws://0.0.0.0:7007     │\n",
       "│             ╵                       │\n",
       "╰─────────────────────────────────────╯\n",
       "</pre>\n"
      ],
      "text/plain": [
       "╭─────────────── \u001b[1mviser\u001b[0m ───────────────╮\n",
       "│             ╷                       │\n",
       "│   HTTP      │ http://0.0.0.0:7007   │\n",
       "│   Websocket │ ws://0.0.0.0:7007     │\n",
       "│             ╵                       │\n",
       "╰─────────────────────────────────────╯\n"
      ]
     },
     "metadata": {},
     "output_type": "display_data"
    },
    {
     "data": {
      "text/html": [
       "<pre style=\"white-space:pre;overflow-x:auto;line-height:normal;font-family:Menlo,'DejaVu Sans Mono',consolas,'Courier New',monospace\"><span style=\"font-weight: bold\">(viser)</span> Connection opened <span style=\"font-weight: bold\">(</span><span style=\"color: #008080; text-decoration-color: #008080; font-weight: bold\">0</span>, <span style=\"color: #008080; text-decoration-color: #008080; font-weight: bold\">1</span> total<span style=\"font-weight: bold\">)</span>, <span style=\"color: #008080; text-decoration-color: #008080; font-weight: bold\">85</span> persistent messages\n",
       "</pre>\n"
      ],
      "text/plain": [
       "\u001b[1m(\u001b[0m\u001b[1mviser\u001b[0m\u001b[1m)\u001b[0m Connection opened \u001b[1m(\u001b[0m\u001b[1;36m0\u001b[0m, \u001b[1;36m1\u001b[0m total\u001b[1m)\u001b[0m, \u001b[1;36m85\u001b[0m persistent messages\n"
      ]
     },
     "metadata": {},
     "output_type": "display_data"
    },
    {
     "data": {
      "text/html": [
       "<pre style=\"white-space:pre;overflow-x:auto;line-height:normal;font-family:Menlo,'DejaVu Sans Mono',consolas,'Courier New',monospace\"><span style=\"color: #7fbfbf; text-decoration-color: #7fbfbf\">[14:45:32] </span>disabled local writer                                                                           <a href=\"file:///home/dan/Documents/nerfs/nerfstudio/nerfstudio/utils/writer.py\" target=\"_blank\"><span style=\"color: #7f7f7f; text-decoration-color: #7f7f7f\">writer.py</span></a><span style=\"color: #7f7f7f; text-decoration-color: #7f7f7f\">:</span><a href=\"file:///home/dan/Documents/nerfs/nerfstudio/nerfstudio/utils/writer.py#186\" target=\"_blank\"><span style=\"color: #7f7f7f; text-decoration-color: #7f7f7f\">186</span></a>\n",
       "</pre>\n"
      ],
      "text/plain": [
       "\u001b[2;36m[14:45:32]\u001b[0m\u001b[2;36m \u001b[0mdisabled local writer                                                                           \u001b]8;id=129297;file:///home/dan/Documents/nerfs/nerfstudio/nerfstudio/utils/writer.py\u001b\\\u001b[2mwriter.py\u001b[0m\u001b]8;;\u001b\\\u001b[2m:\u001b[0m\u001b]8;id=185614;file:///home/dan/Documents/nerfs/nerfstudio/nerfstudio/utils/writer.py#186\u001b\\\u001b[2m186\u001b[0m\u001b]8;;\u001b\\\n"
      ]
     },
     "metadata": {},
     "output_type": "display_data"
    },
    {
     "data": {
      "text/html": [
       "<pre style=\"white-space:pre;overflow-x:auto;line-height:normal;font-family:Menlo,'DejaVu Sans Mono',consolas,'Courier New',monospace\"><span style=\"font-weight: bold\">(viser)</span> Connection opened <span style=\"font-weight: bold\">(</span><span style=\"color: #008080; text-decoration-color: #008080; font-weight: bold\">1</span>, <span style=\"color: #008080; text-decoration-color: #008080; font-weight: bold\">2</span> total<span style=\"font-weight: bold\">)</span>, <span style=\"color: #008080; text-decoration-color: #008080; font-weight: bold\">342</span> persistent messages\n",
       "</pre>\n"
      ],
      "text/plain": [
       "\u001b[1m(\u001b[0m\u001b[1mviser\u001b[0m\u001b[1m)\u001b[0m Connection opened \u001b[1m(\u001b[0m\u001b[1;36m1\u001b[0m, \u001b[1;36m2\u001b[0m total\u001b[1m)\u001b[0m, \u001b[1;36m342\u001b[0m persistent messages\n"
      ]
     },
     "metadata": {},
     "output_type": "display_data"
    },
    {
     "name": "stderr",
     "output_type": "stream",
     "text": [
      "Exception in thread Thread-8:\n",
      "Traceback (most recent call last):\n",
      "  File \"/home/dan/anaconda3/envs/nerfstudio/lib/python3.9/threading.py\", line 980, in _bootstrap_inner\n",
      "    self.run()\n",
      "  File \"/home/dan/Documents/nerfs/nerfstudio/nerfstudio/viewer/render_state_machine.py\", line 227, in run\n",
      "    outputs = self._render_img(action.camera_state)\n",
      "  File \"/home/dan/Documents/nerfs/nerfstudio/nerfstudio/viewer/render_state_machine.py\", line 170, in _render_img\n",
      "    outputs = self.viewer.get_model().get_outputs_for_camera(camera, obb_box=obb)\n",
      "  File \"/home/dan/anaconda3/envs/nerfstudio/lib/python3.9/site-packages/torch/utils/_contextlib.py\", line 115, in decorate_context\n",
      "    return func(*args, **kwargs)\n",
      "  File \"/home/dan/Documents/nerfs/nerfstudio/nerfstudio/models/base_model.py\", line 173, in get_outputs_for_camera\n",
      "    return self.get_outputs_for_camera_ray_bundle(\n",
      "  File \"/home/dan/anaconda3/envs/nerfstudio/lib/python3.9/site-packages/torch/utils/_contextlib.py\", line 115, in decorate_context\n",
      "    return func(*args, **kwargs)\n",
      "  File \"/home/dan/Documents/nerfs/nerfstudio/nerfstudio/models/base_model.py\", line 195, in get_outputs_for_camera_ray_bundle\n",
      "    outputs = self.forward(ray_bundle=ray_bundle)\n",
      "  File \"/home/dan/Documents/nerfs/nerfstudio/nerfstudio/models/base_model.py\", line 143, in forward\n",
      "    return self.get_outputs(ray_bundle)\n",
      "  File \"/home/dan/Documents/nerfs/nerfstudio/nerfstudio/models/nerfacto.py\", line 303, in get_outputs\n",
      "    ray_samples, weights_list, ray_samples_list = self.proposal_sampler(ray_bundle, density_fns=self.density_fns)\n",
      "  File \"/home/dan/anaconda3/envs/nerfstudio/lib/python3.9/site-packages/torch/nn/modules/module.py\", line 1518, in _wrapped_call_impl\n",
      "    return self._call_impl(*args, **kwargs)\n",
      "  File \"/home/dan/anaconda3/envs/nerfstudio/lib/python3.9/site-packages/torch/nn/modules/module.py\", line 1527, in _call_impl\n",
      "    return forward_call(*args, **kwargs)\n",
      "  File \"/home/dan/Documents/nerfs/nerfstudio/nerfstudio/model_components/ray_samplers.py\", line 50, in forward\n",
      "    return self.generate_ray_samples(*args, **kwargs)\n",
      "  File \"/home/dan/Documents/nerfs/nerfstudio/nerfstudio/model_components/ray_samplers.py\", line 606, in generate_ray_samples\n",
      "    density = density_fns[i_level](ray_samples.frustums.get_positions())\n",
      "  File \"/home/dan/Documents/nerfs/nerfstudio/nerfstudio/fields/base_field.py\", line 67, in density_fn\n",
      "    density, _ = self.get_density(ray_samples)\n",
      "  File \"/home/dan/Documents/nerfs/nerfstudio/nerfstudio/fields/density_fields.py\", line 106, in get_density\n",
      "    self.mlp_base(positions_flat).view(*ray_samples.frustums.shape, -1).to(positions)\n",
      "  File \"/home/dan/anaconda3/envs/nerfstudio/lib/python3.9/site-packages/torch/nn/modules/module.py\", line 1518, in _wrapped_call_impl\n",
      "    return self._call_impl(*args, **kwargs)\n",
      "  File \"/home/dan/anaconda3/envs/nerfstudio/lib/python3.9/site-packages/torch/nn/modules/module.py\", line 1527, in _call_impl\n",
      "    return forward_call(*args, **kwargs)\n",
      "  File \"/home/dan/anaconda3/envs/nerfstudio/lib/python3.9/site-packages/torch/nn/modules/container.py\", line 215, in forward\n",
      "    input = module(input)\n",
      "  File \"/home/dan/anaconda3/envs/nerfstudio/lib/python3.9/site-packages/torch/nn/modules/module.py\", line 1518, in _wrapped_call_impl\n",
      "    return self._call_impl(*args, **kwargs)\n",
      "  File \"/home/dan/anaconda3/envs/nerfstudio/lib/python3.9/site-packages/torch/nn/modules/module.py\", line 1527, in _call_impl\n",
      "    return forward_call(*args, **kwargs)\n",
      "  File \"/home/dan/Documents/nerfs/nerfstudio/nerfstudio/field_components/encodings.py\", line 466, in forward\n",
      "    return self.pytorch_fwd(in_tensor)\n",
      "  File \"/home/dan/Documents/nerfs/nerfstudio/nerfstudio/field_components/encodings.py\", line 457, in pytorch_fwd\n",
      "    encoded_value = f0312 * offset[..., 2:3] + f4756 * (\n",
      "torch.cuda.OutOfMemoryError: CUDA out of memory. Tried to allocate 320.00 MiB. GPU 0 has a total capacty of 11.63 GiB of which 316.81 MiB is free. Process 61187 has 184.00 MiB memory in use. Including non-PyTorch memory, this process has 10.88 GiB memory in use. Process 64103 has 184.00 MiB memory in use. Of the allocated memory 9.94 GiB is allocated by PyTorch, and 740.62 MiB is reserved by PyTorch but unallocated. If reserved but unallocated memory is large try setting max_split_size_mb to avoid fragmentation.  See documentation for Memory Management and PYTORCH_CUDA_ALLOC_CONF\n"
     ]
    }
   ],
   "source": [
    "\n",
    "import nerfstudio.scripts.viewer.run_viewer as ns_viewer\n",
    "from nerfstudio.utils.eval_utils import eval_setup\n",
    "from pathlib import Path\n",
    "from nerfstudio.configs.base_config import ViewerConfig\n",
    "from dataclasses import dataclass, field, fields\n",
    "import tyro\n",
    "from nerfstudio.viewer.viewer import Viewer as ViewerState\n",
    "from threading import Lock\n",
    "from nerfstudio.utils import writer\n",
    "\n",
    "# Load in the first nerf as a config\n",
    "load_config = Path(\"outputs/sculpture/nerfacto/2024-10-24_103323/config.yml\")\n",
    "\n",
    "config, pipeline, _, step = eval_setup(\n",
    "    load_config,\n",
    "    eval_num_rays_per_chunk=None,\n",
    "    test_mode=\"test\",\n",
    ")\n",
    "\n",
    "# Prep the config for the visualization\n",
    "@dataclass\n",
    "class ViewerConfigWithoutNumRays(ViewerConfig):\n",
    "    \"\"\"Configuration for viewer instantiation\"\"\"\n",
    "\n",
    "    num_rays_per_chunk: tyro.conf.Suppress[int] = -1\n",
    "\n",
    "    def as_viewer_config(self):\n",
    "        \"\"\"Converts the instance to ViewerConfig\"\"\"\n",
    "        return ViewerConfig(**{x.name: getattr(self, x.name) for x in fields(self)})\n",
    "\n",
    "viewer = ViewerConfigWithoutNumRays()\n",
    "num_rays_per_chunk = config.viewer.num_rays_per_chunk\n",
    "assert viewer.num_rays_per_chunk == -1\n",
    "config.vis = \"viewer\"\n",
    "config.viewer = viewer.as_viewer_config()\n",
    "config.viewer.num_rays_per_chunk = num_rays_per_chunk\n",
    "\n",
    "# Start Visualization\n",
    "base_dir = config.get_base_dir()\n",
    "viewer_log_path = base_dir / config.viewer.relative_log_filename\n",
    "banner_messages = None\n",
    "viewer_state = None\n",
    "viewer_callback_lock = Lock()\n",
    "if config.vis == \"viewer\":\n",
    "    viewer_state = ViewerState(\n",
    "        config.viewer,\n",
    "        log_filename=viewer_log_path,\n",
    "        datapath=pipeline.datamanager.get_datapath(),\n",
    "        pipeline=pipeline,\n",
    "        share=config.viewer.make_share_url,\n",
    "        train_lock=viewer_callback_lock,\n",
    "    )\n",
    "    banner_messages = viewer_state.viewer_info\n",
    "\n",
    "# We don't need logging, but writer.GLOBAL_BUFFER needs to be populated\n",
    "config.logging.local_writer.enable = False\n",
    "writer.setup_local_writer(config.logging, max_iter=config.max_num_iterations, banner_messages=banner_messages)\n",
    "\n",
    "assert viewer_state and pipeline.datamanager.train_dataset\n",
    "viewer_state.init_scene(\n",
    "    train_dataset=pipeline.datamanager.train_dataset,\n",
    "    train_state=\"completed\",\n",
    "    eval_dataset=pipeline.datamanager.eval_dataset,\n",
    ")\n",
    "\n",
    "viewer_state.update_scene(step=step)\n"
   ]
  },
  {
   "cell_type": "code",
   "execution_count": 2,
   "metadata": {},
   "outputs": [
    {
     "data": {
      "text/html": [
       "<pre style=\"white-space:pre;overflow-x:auto;line-height:normal;font-family:Menlo,'DejaVu Sans Mono',consolas,'Courier New',monospace\"><span style=\"color: #7fbfbf; text-decoration-color: #7fbfbf\">[14:45:55] </span>Auto image downscale factor of <span style=\"color: #008080; text-decoration-color: #008080; font-weight: bold\">2</span>                                                 <a href=\"file:///home/dan/Documents/nerfs/nerfstudio/nerfstudio/data/dataparsers/nerfstudio_dataparser.py\" target=\"_blank\"><span style=\"color: #7f7f7f; text-decoration-color: #7f7f7f\">nerfstudio_dataparser.py</span></a><span style=\"color: #7f7f7f; text-decoration-color: #7f7f7f\">:</span><a href=\"file:///home/dan/Documents/nerfs/nerfstudio/nerfstudio/data/dataparsers/nerfstudio_dataparser.py#484\" target=\"_blank\"><span style=\"color: #7f7f7f; text-decoration-color: #7f7f7f\">484</span></a>\n",
       "</pre>\n"
      ],
      "text/plain": [
       "\u001b[2;36m[14:45:55]\u001b[0m\u001b[2;36m \u001b[0mAuto image downscale factor of \u001b[1;36m2\u001b[0m                                                 \u001b]8;id=446529;file:///home/dan/Documents/nerfs/nerfstudio/nerfstudio/data/dataparsers/nerfstudio_dataparser.py\u001b\\\u001b[2mnerfstudio_dataparser.py\u001b[0m\u001b]8;;\u001b\\\u001b[2m:\u001b[0m\u001b]8;id=140992;file:///home/dan/Documents/nerfs/nerfstudio/nerfstudio/data/dataparsers/nerfstudio_dataparser.py#484\u001b\\\u001b[2m484\u001b[0m\u001b]8;;\u001b\\\n"
      ]
     },
     "metadata": {},
     "output_type": "display_data"
    },
    {
     "name": "stdout",
     "output_type": "stream",
     "text": [
      "Started threads\n"
     ]
    },
    {
     "data": {
      "text/html": [
       "<pre style=\"white-space:pre;overflow-x:auto;line-height:normal;font-family:Menlo,'DejaVu Sans Mono',consolas,'Courier New',monospace\">Setting up evaluation dataset<span style=\"color: #808000; text-decoration-color: #808000\">...</span>\n",
       "</pre>\n"
      ],
      "text/plain": [
       "Setting up evaluation dataset\u001b[33m...\u001b[0m\n"
      ]
     },
     "metadata": {},
     "output_type": "display_data"
    },
    {
     "data": {
      "text/html": [
       "<pre style=\"white-space:pre;overflow-x:auto;line-height:normal;font-family:Menlo,'DejaVu Sans Mono',consolas,'Courier New',monospace\">Caching all <span style=\"color: #008080; text-decoration-color: #008080; font-weight: bold\">25</span> images.\n",
       "</pre>\n"
      ],
      "text/plain": [
       "Caching all \u001b[1;36m25\u001b[0m images.\n"
      ]
     },
     "metadata": {},
     "output_type": "display_data"
    },
    {
     "data": {
      "application/vnd.jupyter.widget-view+json": {
       "model_id": "0363895e774b45e0af041935d79dd132",
       "version_major": 2,
       "version_minor": 0
      },
      "text/plain": [
       "Output()"
      ]
     },
     "metadata": {},
     "output_type": "display_data"
    },
    {
     "name": "stdout",
     "output_type": "stream",
     "text": [
      "\u001b[2KLoading data batch \u001b[90m━━━━━━━━━━━━━━━━━━━━━━━━━━━━━━━━━━━━━━━━\u001b[0m \u001b[35m  0%\u001b[0m \u001b[36m-:--:--\u001b[0m"
     ]
    },
    {
     "data": {
      "text/html": [
       "<pre style=\"white-space:pre;overflow-x:auto;line-height:normal;font-family:Menlo,'DejaVu Sans Mono',consolas,'Courier New',monospace\"></pre>\n"
      ],
      "text/plain": []
     },
     "metadata": {},
     "output_type": "display_data"
    },
    {
     "name": "stdout",
     "output_type": "stream",
     "text": [
      "\u001b[2KLoading data batch \u001b[90m━━━━━━━━━━━━━━━━━━━━━━━━━━━━━━━━━━━━━━━━\u001b[0m \u001b[35m  0%\u001b[0m \u001b[36m-:--:--\u001b[0m"
     ]
    },
    {
     "data": {
      "text/html": [
       "<pre style=\"white-space:pre;overflow-x:auto;line-height:normal;font-family:Menlo,'DejaVu Sans Mono',consolas,'Courier New',monospace\">\n",
       "</pre>\n"
      ],
      "text/plain": [
       "\n"
      ]
     },
     "metadata": {},
     "output_type": "display_data"
    },
    {
     "data": {
      "text/html": [
       "<pre style=\"white-space:pre;overflow-x:auto;line-height:normal;font-family:Menlo,'DejaVu Sans Mono',consolas,'Courier New',monospace\"><span style=\"color: #808000; text-decoration-color: #808000; font-weight: bold\">WARNING: Using a slow implementation for the SHEncoding module. </span>\n",
       "</pre>\n"
      ],
      "text/plain": [
       "\u001b[1;33mWARNING: Using a slow implementation for the SHEncoding module. \u001b[0m\n"
      ]
     },
     "metadata": {},
     "output_type": "display_data"
    },
    {
     "data": {
      "text/html": [
       "<pre style=\"white-space:pre;overflow-x:auto;line-height:normal;font-family:Menlo,'DejaVu Sans Mono',consolas,'Courier New',monospace\"><span style=\"color: #808000; text-decoration-color: #808000; font-weight: bold\">🏃 🏃 Install tcnn for speedups 🏃 🏃</span>\n",
       "</pre>\n"
      ],
      "text/plain": [
       "\u001b[1;33m🏃 🏃 Install tcnn for speedups 🏃 🏃\u001b[0m\n"
      ]
     },
     "metadata": {},
     "output_type": "display_data"
    },
    {
     "data": {
      "text/html": [
       "<pre style=\"white-space:pre;overflow-x:auto;line-height:normal;font-family:Menlo,'DejaVu Sans Mono',consolas,'Courier New',monospace\"><span style=\"color: #808000; text-decoration-color: #808000\">pip install git+</span><span style=\"color: #808000; text-decoration-color: #808000; text-decoration: underline\">https://github.com/NVlabs/tiny-cuda-nn/#subdirectory=bindings/torch</span>\n",
       "</pre>\n"
      ],
      "text/plain": [
       "\u001b[33mpip install git+\u001b[0m\u001b[4;33mhttps://github.com/NVlabs/tiny-cuda-nn/#\u001b[0m\u001b[4;33msubdirectory\u001b[0m\u001b[4;33m=\u001b[0m\u001b[4;33mbindings\u001b[0m\u001b[4;33m/torch\u001b[0m\n"
      ]
     },
     "metadata": {},
     "output_type": "display_data"
    },
    {
     "data": {
      "text/html": [
       "<pre style=\"white-space:pre;overflow-x:auto;line-height:normal;font-family:Menlo,'DejaVu Sans Mono',consolas,'Courier New',monospace\">\n",
       "</pre>\n"
      ],
      "text/plain": [
       "\n"
      ]
     },
     "metadata": {},
     "output_type": "display_data"
    },
    {
     "data": {
      "text/html": [
       "<pre style=\"white-space:pre;overflow-x:auto;line-height:normal;font-family:Menlo,'DejaVu Sans Mono',consolas,'Courier New',monospace\">\n",
       "</pre>\n"
      ],
      "text/plain": [
       "\n"
      ]
     },
     "metadata": {},
     "output_type": "display_data"
    },
    {
     "data": {
      "text/html": [
       "<pre style=\"white-space:pre;overflow-x:auto;line-height:normal;font-family:Menlo,'DejaVu Sans Mono',consolas,'Courier New',monospace\"><span style=\"color: #808000; text-decoration-color: #808000; font-weight: bold\">WARNING: Using a slow implementation for the NeRFEncoding module. </span>\n",
       "</pre>\n"
      ],
      "text/plain": [
       "\u001b[1;33mWARNING: Using a slow implementation for the NeRFEncoding module. \u001b[0m\n"
      ]
     },
     "metadata": {},
     "output_type": "display_data"
    },
    {
     "data": {
      "text/html": [
       "<pre style=\"white-space:pre;overflow-x:auto;line-height:normal;font-family:Menlo,'DejaVu Sans Mono',consolas,'Courier New',monospace\"><span style=\"color: #808000; text-decoration-color: #808000; font-weight: bold\">🏃 🏃 Install tcnn for speedups 🏃 🏃</span>\n",
       "</pre>\n"
      ],
      "text/plain": [
       "\u001b[1;33m🏃 🏃 Install tcnn for speedups 🏃 🏃\u001b[0m\n"
      ]
     },
     "metadata": {},
     "output_type": "display_data"
    },
    {
     "data": {
      "text/html": [
       "<pre style=\"white-space:pre;overflow-x:auto;line-height:normal;font-family:Menlo,'DejaVu Sans Mono',consolas,'Courier New',monospace\"><span style=\"color: #808000; text-decoration-color: #808000\">pip install git+</span><span style=\"color: #808000; text-decoration-color: #808000; text-decoration: underline\">https://github.com/NVlabs/tiny-cuda-nn/#subdirectory=bindings/torch</span>\n",
       "</pre>\n"
      ],
      "text/plain": [
       "\u001b[33mpip install git+\u001b[0m\u001b[4;33mhttps://github.com/NVlabs/tiny-cuda-nn/#\u001b[0m\u001b[4;33msubdirectory\u001b[0m\u001b[4;33m=\u001b[0m\u001b[4;33mbindings\u001b[0m\u001b[4;33m/torch\u001b[0m\n"
      ]
     },
     "metadata": {},
     "output_type": "display_data"
    },
    {
     "data": {
      "text/html": [
       "<pre style=\"white-space:pre;overflow-x:auto;line-height:normal;font-family:Menlo,'DejaVu Sans Mono',consolas,'Courier New',monospace\">\n",
       "</pre>\n"
      ],
      "text/plain": [
       "\n"
      ]
     },
     "metadata": {},
     "output_type": "display_data"
    },
    {
     "data": {
      "text/html": [
       "<pre style=\"white-space:pre;overflow-x:auto;line-height:normal;font-family:Menlo,'DejaVu Sans Mono',consolas,'Courier New',monospace\">\n",
       "</pre>\n"
      ],
      "text/plain": [
       "\n"
      ]
     },
     "metadata": {},
     "output_type": "display_data"
    },
    {
     "data": {
      "text/html": [
       "<pre style=\"white-space:pre;overflow-x:auto;line-height:normal;font-family:Menlo,'DejaVu Sans Mono',consolas,'Courier New',monospace\"><span style=\"color: #808000; text-decoration-color: #808000; font-weight: bold\">WARNING: Using a slow implementation for the MLPWithHashEncoding module. </span>\n",
       "</pre>\n"
      ],
      "text/plain": [
       "\u001b[1;33mWARNING: Using a slow implementation for the MLPWithHashEncoding module. \u001b[0m\n"
      ]
     },
     "metadata": {},
     "output_type": "display_data"
    },
    {
     "data": {
      "text/html": [
       "<pre style=\"white-space:pre;overflow-x:auto;line-height:normal;font-family:Menlo,'DejaVu Sans Mono',consolas,'Courier New',monospace\"><span style=\"color: #808000; text-decoration-color: #808000; font-weight: bold\">🏃 🏃 Install tcnn for speedups 🏃 🏃</span>\n",
       "</pre>\n"
      ],
      "text/plain": [
       "\u001b[1;33m🏃 🏃 Install tcnn for speedups 🏃 🏃\u001b[0m\n"
      ]
     },
     "metadata": {},
     "output_type": "display_data"
    },
    {
     "data": {
      "text/html": [
       "<pre style=\"white-space:pre;overflow-x:auto;line-height:normal;font-family:Menlo,'DejaVu Sans Mono',consolas,'Courier New',monospace\"><span style=\"color: #808000; text-decoration-color: #808000\">pip install git+</span><span style=\"color: #808000; text-decoration-color: #808000; text-decoration: underline\">https://github.com/NVlabs/tiny-cuda-nn/#subdirectory=bindings/torch</span>\n",
       "</pre>\n"
      ],
      "text/plain": [
       "\u001b[33mpip install git+\u001b[0m\u001b[4;33mhttps://github.com/NVlabs/tiny-cuda-nn/#\u001b[0m\u001b[4;33msubdirectory\u001b[0m\u001b[4;33m=\u001b[0m\u001b[4;33mbindings\u001b[0m\u001b[4;33m/torch\u001b[0m\n"
      ]
     },
     "metadata": {},
     "output_type": "display_data"
    },
    {
     "data": {
      "text/html": [
       "<pre style=\"white-space:pre;overflow-x:auto;line-height:normal;font-family:Menlo,'DejaVu Sans Mono',consolas,'Courier New',monospace\">\n",
       "</pre>\n"
      ],
      "text/plain": [
       "\n"
      ]
     },
     "metadata": {},
     "output_type": "display_data"
    },
    {
     "name": "stdout",
     "output_type": "stream",
     "text": [
      "\u001b[2KLoading data batch \u001b[90m━━━━━━━━━━━━━━━━━━━━━━━━━━━━━━━━━━━━━━━━\u001b[0m \u001b[35m  0%\u001b[0m \u001b[36m-:--:--\u001b[0m"
     ]
    },
    {
     "data": {
      "text/html": [
       "<pre style=\"white-space:pre;overflow-x:auto;line-height:normal;font-family:Menlo,'DejaVu Sans Mono',consolas,'Courier New',monospace\">\n",
       "</pre>\n"
      ],
      "text/plain": [
       "\n"
      ]
     },
     "metadata": {},
     "output_type": "display_data"
    },
    {
     "data": {
      "text/html": [
       "<pre style=\"white-space:pre;overflow-x:auto;line-height:normal;font-family:Menlo,'DejaVu Sans Mono',consolas,'Courier New',monospace\"><span style=\"color: #808000; text-decoration-color: #808000; font-weight: bold\">WARNING: Using a slow implementation for the MLP module. </span>\n",
       "</pre>\n"
      ],
      "text/plain": [
       "\u001b[1;33mWARNING: Using a slow implementation for the MLP module. \u001b[0m\n"
      ]
     },
     "metadata": {},
     "output_type": "display_data"
    },
    {
     "data": {
      "text/html": [
       "<pre style=\"white-space:pre;overflow-x:auto;line-height:normal;font-family:Menlo,'DejaVu Sans Mono',consolas,'Courier New',monospace\"><span style=\"color: #808000; text-decoration-color: #808000; font-weight: bold\">🏃 🏃 Install tcnn for speedups 🏃 🏃</span>\n",
       "</pre>\n"
      ],
      "text/plain": [
       "\u001b[1;33m🏃 🏃 Install tcnn for speedups 🏃 🏃\u001b[0m\n"
      ]
     },
     "metadata": {},
     "output_type": "display_data"
    },
    {
     "data": {
      "text/html": [
       "<pre style=\"white-space:pre;overflow-x:auto;line-height:normal;font-family:Menlo,'DejaVu Sans Mono',consolas,'Courier New',monospace\"><span style=\"color: #808000; text-decoration-color: #808000\">pip install git+</span><span style=\"color: #808000; text-decoration-color: #808000; text-decoration: underline\">https://github.com/NVlabs/tiny-cuda-nn/#subdirectory=bindings/torch</span>\n",
       "</pre>\n"
      ],
      "text/plain": [
       "\u001b[33mpip install git+\u001b[0m\u001b[4;33mhttps://github.com/NVlabs/tiny-cuda-nn/#\u001b[0m\u001b[4;33msubdirectory\u001b[0m\u001b[4;33m=\u001b[0m\u001b[4;33mbindings\u001b[0m\u001b[4;33m/torch\u001b[0m\n"
      ]
     },
     "metadata": {},
     "output_type": "display_data"
    },
    {
     "data": {
      "text/html": [
       "<pre style=\"white-space:pre;overflow-x:auto;line-height:normal;font-family:Menlo,'DejaVu Sans Mono',consolas,'Courier New',monospace\">\n",
       "</pre>\n"
      ],
      "text/plain": [
       "\n"
      ]
     },
     "metadata": {},
     "output_type": "display_data"
    },
    {
     "data": {
      "text/html": [
       "<pre style=\"white-space:pre;overflow-x:auto;line-height:normal;font-family:Menlo,'DejaVu Sans Mono',consolas,'Courier New',monospace\">\n",
       "</pre>\n"
      ],
      "text/plain": [
       "\n"
      ]
     },
     "metadata": {},
     "output_type": "display_data"
    },
    {
     "data": {
      "text/html": [
       "<pre style=\"white-space:pre;overflow-x:auto;line-height:normal;font-family:Menlo,'DejaVu Sans Mono',consolas,'Courier New',monospace\"><span style=\"color: #808000; text-decoration-color: #808000; font-weight: bold\">WARNING: Using a slow implementation for the HashEncoding module. </span>\n",
       "</pre>\n"
      ],
      "text/plain": [
       "\u001b[1;33mWARNING: Using a slow implementation for the HashEncoding module. \u001b[0m\n"
      ]
     },
     "metadata": {},
     "output_type": "display_data"
    },
    {
     "data": {
      "text/html": [
       "<pre style=\"white-space:pre;overflow-x:auto;line-height:normal;font-family:Menlo,'DejaVu Sans Mono',consolas,'Courier New',monospace\"><span style=\"color: #808000; text-decoration-color: #808000; font-weight: bold\">🏃 🏃 Install tcnn for speedups 🏃 🏃</span>\n",
       "</pre>\n"
      ],
      "text/plain": [
       "\u001b[1;33m🏃 🏃 Install tcnn for speedups 🏃 🏃\u001b[0m\n"
      ]
     },
     "metadata": {},
     "output_type": "display_data"
    },
    {
     "data": {
      "text/html": [
       "<pre style=\"white-space:pre;overflow-x:auto;line-height:normal;font-family:Menlo,'DejaVu Sans Mono',consolas,'Courier New',monospace\"><span style=\"color: #808000; text-decoration-color: #808000\">pip install git+</span><span style=\"color: #808000; text-decoration-color: #808000; text-decoration: underline\">https://github.com/NVlabs/tiny-cuda-nn/#subdirectory=bindings/torch</span>\n",
       "</pre>\n"
      ],
      "text/plain": [
       "\u001b[33mpip install git+\u001b[0m\u001b[4;33mhttps://github.com/NVlabs/tiny-cuda-nn/#\u001b[0m\u001b[4;33msubdirectory\u001b[0m\u001b[4;33m=\u001b[0m\u001b[4;33mbindings\u001b[0m\u001b[4;33m/torch\u001b[0m\n"
      ]
     },
     "metadata": {},
     "output_type": "display_data"
    },
    {
     "data": {
      "text/html": [
       "<pre style=\"white-space:pre;overflow-x:auto;line-height:normal;font-family:Menlo,'DejaVu Sans Mono',consolas,'Courier New',monospace\">\n",
       "</pre>\n"
      ],
      "text/plain": [
       "\n"
      ]
     },
     "metadata": {},
     "output_type": "display_data"
    },
    {
     "data": {
      "text/html": [
       "<pre style=\"white-space:pre;overflow-x:auto;line-height:normal;font-family:Menlo,'DejaVu Sans Mono',consolas,'Courier New',monospace\">\n",
       "</pre>\n"
      ],
      "text/plain": [
       "\n"
      ]
     },
     "metadata": {},
     "output_type": "display_data"
    },
    {
     "data": {
      "text/html": [
       "<pre style=\"white-space:pre;overflow-x:auto;line-height:normal;font-family:Menlo,'DejaVu Sans Mono',consolas,'Courier New',monospace\"><span style=\"color: #808000; text-decoration-color: #808000; font-weight: bold\">WARNING: Using a slow implementation for the MLP module. </span>\n",
       "</pre>\n"
      ],
      "text/plain": [
       "\u001b[1;33mWARNING: Using a slow implementation for the MLP module. \u001b[0m\n"
      ]
     },
     "metadata": {},
     "output_type": "display_data"
    },
    {
     "data": {
      "text/html": [
       "<pre style=\"white-space:pre;overflow-x:auto;line-height:normal;font-family:Menlo,'DejaVu Sans Mono',consolas,'Courier New',monospace\"><span style=\"color: #808000; text-decoration-color: #808000; font-weight: bold\">🏃 🏃 Install tcnn for speedups 🏃 🏃</span>\n",
       "</pre>\n"
      ],
      "text/plain": [
       "\u001b[1;33m🏃 🏃 Install tcnn for speedups 🏃 🏃\u001b[0m\n"
      ]
     },
     "metadata": {},
     "output_type": "display_data"
    },
    {
     "data": {
      "text/html": [
       "<pre style=\"white-space:pre;overflow-x:auto;line-height:normal;font-family:Menlo,'DejaVu Sans Mono',consolas,'Courier New',monospace\"><span style=\"color: #808000; text-decoration-color: #808000\">pip install git+</span><span style=\"color: #808000; text-decoration-color: #808000; text-decoration: underline\">https://github.com/NVlabs/tiny-cuda-nn/#subdirectory=bindings/torch</span>\n",
       "</pre>\n"
      ],
      "text/plain": [
       "\u001b[33mpip install git+\u001b[0m\u001b[4;33mhttps://github.com/NVlabs/tiny-cuda-nn/#\u001b[0m\u001b[4;33msubdirectory\u001b[0m\u001b[4;33m=\u001b[0m\u001b[4;33mbindings\u001b[0m\u001b[4;33m/torch\u001b[0m\n"
      ]
     },
     "metadata": {},
     "output_type": "display_data"
    },
    {
     "data": {
      "text/html": [
       "<pre style=\"white-space:pre;overflow-x:auto;line-height:normal;font-family:Menlo,'DejaVu Sans Mono',consolas,'Courier New',monospace\">\n",
       "</pre>\n"
      ],
      "text/plain": [
       "\n"
      ]
     },
     "metadata": {},
     "output_type": "display_data"
    },
    {
     "data": {
      "text/html": [
       "<pre style=\"white-space:pre;overflow-x:auto;line-height:normal;font-family:Menlo,'DejaVu Sans Mono',consolas,'Courier New',monospace\">\n",
       "</pre>\n"
      ],
      "text/plain": [
       "\n"
      ]
     },
     "metadata": {},
     "output_type": "display_data"
    },
    {
     "data": {
      "text/html": [
       "<pre style=\"white-space:pre;overflow-x:auto;line-height:normal;font-family:Menlo,'DejaVu Sans Mono',consolas,'Courier New',monospace\"><span style=\"color: #808000; text-decoration-color: #808000; font-weight: bold\">WARNING: Using a slow implementation for the HashEncoding module. </span>\n",
       "</pre>\n"
      ],
      "text/plain": [
       "\u001b[1;33mWARNING: Using a slow implementation for the HashEncoding module. \u001b[0m\n"
      ]
     },
     "metadata": {},
     "output_type": "display_data"
    },
    {
     "data": {
      "text/html": [
       "<pre style=\"white-space:pre;overflow-x:auto;line-height:normal;font-family:Menlo,'DejaVu Sans Mono',consolas,'Courier New',monospace\"><span style=\"color: #808000; text-decoration-color: #808000; font-weight: bold\">🏃 🏃 Install tcnn for speedups 🏃 🏃</span>\n",
       "</pre>\n"
      ],
      "text/plain": [
       "\u001b[1;33m🏃 🏃 Install tcnn for speedups 🏃 🏃\u001b[0m\n"
      ]
     },
     "metadata": {},
     "output_type": "display_data"
    },
    {
     "data": {
      "text/html": [
       "<pre style=\"white-space:pre;overflow-x:auto;line-height:normal;font-family:Menlo,'DejaVu Sans Mono',consolas,'Courier New',monospace\"><span style=\"color: #808000; text-decoration-color: #808000\">pip install git+</span><span style=\"color: #808000; text-decoration-color: #808000; text-decoration: underline\">https://github.com/NVlabs/tiny-cuda-nn/#subdirectory=bindings/torch</span>\n",
       "</pre>\n"
      ],
      "text/plain": [
       "\u001b[33mpip install git+\u001b[0m\u001b[4;33mhttps://github.com/NVlabs/tiny-cuda-nn/#\u001b[0m\u001b[4;33msubdirectory\u001b[0m\u001b[4;33m=\u001b[0m\u001b[4;33mbindings\u001b[0m\u001b[4;33m/torch\u001b[0m\n"
      ]
     },
     "metadata": {},
     "output_type": "display_data"
    },
    {
     "data": {
      "text/html": [
       "<pre style=\"white-space:pre;overflow-x:auto;line-height:normal;font-family:Menlo,'DejaVu Sans Mono',consolas,'Courier New',monospace\">\n",
       "</pre>\n"
      ],
      "text/plain": [
       "\n"
      ]
     },
     "metadata": {},
     "output_type": "display_data"
    },
    {
     "data": {
      "text/html": [
       "<pre style=\"white-space:pre;overflow-x:auto;line-height:normal;font-family:Menlo,'DejaVu Sans Mono',consolas,'Courier New',monospace\">\n",
       "</pre>\n"
      ],
      "text/plain": [
       "\n"
      ]
     },
     "metadata": {},
     "output_type": "display_data"
    },
    {
     "data": {
      "text/html": [
       "<pre style=\"white-space:pre;overflow-x:auto;line-height:normal;font-family:Menlo,'DejaVu Sans Mono',consolas,'Courier New',monospace\"><span style=\"color: #808000; text-decoration-color: #808000; font-weight: bold\">WARNING: Using a slow implementation for the MLP module. </span>\n",
       "</pre>\n"
      ],
      "text/plain": [
       "\u001b[1;33mWARNING: Using a slow implementation for the MLP module. \u001b[0m\n"
      ]
     },
     "metadata": {},
     "output_type": "display_data"
    },
    {
     "data": {
      "text/html": [
       "<pre style=\"white-space:pre;overflow-x:auto;line-height:normal;font-family:Menlo,'DejaVu Sans Mono',consolas,'Courier New',monospace\"><span style=\"color: #808000; text-decoration-color: #808000; font-weight: bold\">🏃 🏃 Install tcnn for speedups 🏃 🏃</span>\n",
       "</pre>\n"
      ],
      "text/plain": [
       "\u001b[1;33m🏃 🏃 Install tcnn for speedups 🏃 🏃\u001b[0m\n"
      ]
     },
     "metadata": {},
     "output_type": "display_data"
    },
    {
     "data": {
      "text/html": [
       "<pre style=\"white-space:pre;overflow-x:auto;line-height:normal;font-family:Menlo,'DejaVu Sans Mono',consolas,'Courier New',monospace\"><span style=\"color: #808000; text-decoration-color: #808000\">pip install git+</span><span style=\"color: #808000; text-decoration-color: #808000; text-decoration: underline\">https://github.com/NVlabs/tiny-cuda-nn/#subdirectory=bindings/torch</span>\n",
       "</pre>\n"
      ],
      "text/plain": [
       "\u001b[33mpip install git+\u001b[0m\u001b[4;33mhttps://github.com/NVlabs/tiny-cuda-nn/#\u001b[0m\u001b[4;33msubdirectory\u001b[0m\u001b[4;33m=\u001b[0m\u001b[4;33mbindings\u001b[0m\u001b[4;33m/torch\u001b[0m\n"
      ]
     },
     "metadata": {},
     "output_type": "display_data"
    },
    {
     "data": {
      "text/html": [
       "<pre style=\"white-space:pre;overflow-x:auto;line-height:normal;font-family:Menlo,'DejaVu Sans Mono',consolas,'Courier New',monospace\">\n",
       "</pre>\n"
      ],
      "text/plain": [
       "\n"
      ]
     },
     "metadata": {},
     "output_type": "display_data"
    },
    {
     "name": "stdout",
     "output_type": "stream",
     "text": [
      "\u001b[2KLoading data batch \u001b[91m━━━━━━━━━━━━━━━\u001b[0m\u001b[90m╺\u001b[0m\u001b[90m━━━━━━━━━━━━━━━━━━━━━━━━\u001b[0m \u001b[35m 38%\u001b[0m \u001b[36m0:00:02\u001b[0m"
     ]
    },
    {
     "data": {
      "text/html": [
       "<pre style=\"white-space:pre;overflow-x:auto;line-height:normal;font-family:Menlo,'DejaVu Sans Mono',consolas,'Courier New',monospace\">Loading latest checkpoint from load_dir\n",
       "</pre>\n"
      ],
      "text/plain": [
       "Loading latest checkpoint from load_dir\n"
      ]
     },
     "metadata": {},
     "output_type": "display_data"
    },
    {
     "name": "stdout",
     "output_type": "stream",
     "text": [
      "\u001b[2KLoading data batch \u001b[91m━━━━━━━━━━━━━━━━━\u001b[0m\u001b[91m╸\u001b[0m\u001b[90m━━━━━━━━━━━━━━━━━━━━━━\u001b[0m \u001b[35m 44%\u001b[0m \u001b[36m0:00:02\u001b[0m"
     ]
    },
    {
     "data": {
      "text/html": [
       "<pre style=\"white-space:pre;overflow-x:auto;line-height:normal;font-family:Menlo,'DejaVu Sans Mono',consolas,'Courier New',monospace\">✅ Done loading checkpoint from outputs/aspen/nerfacto/<span style=\"color: #008080; text-decoration-color: #008080; font-weight: bold\">2024</span>-<span style=\"color: #008080; text-decoration-color: #008080; font-weight: bold\">10</span>-21_163325/nerfstudio_models/step-<span style=\"color: #008080; text-decoration-color: #008080; font-weight: bold\">000029999.</span>ckpt\n",
       "</pre>\n"
      ],
      "text/plain": [
       "✅ Done loading checkpoint from outputs/aspen/nerfacto/\u001b[1;36m2024\u001b[0m-\u001b[1;36m10\u001b[0m-21_163325/nerfstudio_models/step-\u001b[1;36m000029999.\u001b[0mckpt\n"
      ]
     },
     "metadata": {},
     "output_type": "display_data"
    },
    {
     "name": "stdout",
     "output_type": "stream",
     "text": [
      "\u001b[2KLoading data batch \u001b[90m━━━━━━━━━━━━━━━━━━━━━━━━━━━━━━━━━━━━━━━━\u001b[0m \u001b[35m100%\u001b[0m \u001b[33m0:00:02\u001b[0mm \u001b[36m0:00:01\u001b[0m\n",
      "\u001b[?25h"
     ]
    }
   ],
   "source": [
    "\n",
    "# Now time to swap\n",
    "load_config = Path(\"outputs/aspen/nerfacto/2024-10-21_163325/config.yml\")\n",
    "config, pipeline, _, step = eval_setup(\n",
    "    load_config,\n",
    "    eval_num_rays_per_chunk=None,\n",
    "    test_mode=\"test\",\n",
    ")\n",
    "viewer_state.datapath = pipeline.datamanager.get_datapath()\n",
    "viewer_state.pipeline = pipeline\n",
    "\n",
    "base_dir = config.get_base_dir()\n",
    "viewer_log_path = base_dir / config.viewer.relative_log_filename\n",
    "\n",
    "viewer_state.log_filename = viewer_log_path\n",
    "viewer_state.config = config.viewer\n",
    "\n",
    "viewer_state.init_scene(\n",
    "    train_dataset=pipeline.datamanager.train_dataset,\n",
    "    train_state=\"completed\",\n",
    "    eval_dataset=pipeline.datamanager.eval_dataset,\n",
    ")\n",
    "\n",
    "viewer_state.update_scene(step=step)"
   ]
  }
 ],
 "metadata": {
  "kernelspec": {
   "display_name": "nerfstudio",
   "language": "python",
   "name": "python3"
  },
  "language_info": {
   "codemirror_mode": {
    "name": "ipython",
    "version": 3
   },
   "file_extension": ".py",
   "mimetype": "text/x-python",
   "name": "python",
   "nbconvert_exporter": "python",
   "pygments_lexer": "ipython3",
   "version": "3.9.20"
  }
 },
 "nbformat": 4,
 "nbformat_minor": 2
}
